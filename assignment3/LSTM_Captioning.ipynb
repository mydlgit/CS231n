{
 "cells": [
  {
   "cell_type": "markdown",
   "metadata": {},
   "source": [
    "# Image Captioning with LSTMs\n",
    "In the previous exercise you implemented a vanilla RNN and applied it to image captioning. In this notebook you will implement the LSTM update rule and use it for image captioning."
   ]
  },
  {
   "cell_type": "code",
   "execution_count": 1,
   "metadata": {},
   "outputs": [
    {
     "name": "stderr",
     "output_type": "stream",
     "text": [
      "/home/wanghao/anaconda3/lib/python3.6/site-packages/h5py/__init__.py:36: FutureWarning: Conversion of the second argument of issubdtype from `float` to `np.floating` is deprecated. In future, it will be treated as `np.float64 == np.dtype(float).type`.\n",
      "  from ._conv import register_converters as _register_converters\n"
     ]
    }
   ],
   "source": [
    "# As usual, a bit of setup\n",
    "import time, os, json\n",
    "import numpy as np\n",
    "import matplotlib.pyplot as plt\n",
    "\n",
    "from cs231n.gradient_check import eval_numerical_gradient, eval_numerical_gradient_array\n",
    "from cs231n.rnn_layers import *\n",
    "from cs231n.captioning_solver import CaptioningSolver\n",
    "from cs231n.classifiers.rnn import CaptioningRNN\n",
    "from cs231n.coco_utils import load_coco_data, sample_coco_minibatch, decode_captions\n",
    "from cs231n.image_utils import image_from_url\n",
    "\n",
    "%matplotlib inline\n",
    "plt.rcParams['figure.figsize'] = (10.0, 8.0) # set default size of plots\n",
    "plt.rcParams['image.interpolation'] = 'nearest'\n",
    "plt.rcParams['image.cmap'] = 'gray'\n",
    "\n",
    "# for auto-reloading external modules\n",
    "# see http://stackoverflow.com/questions/1907993/autoreload-of-modules-in-ipython\n",
    "%load_ext autoreload\n",
    "%autoreload 2\n",
    "\n",
    "def rel_error(x, y):\n",
    "    \"\"\" returns relative error \"\"\"\n",
    "    return np.max(np.abs(x - y) / (np.maximum(1e-8, np.abs(x) + np.abs(y))))"
   ]
  },
  {
   "cell_type": "markdown",
   "metadata": {},
   "source": [
    "# Load MS-COCO data\n",
    "As in the previous notebook, we will use the Microsoft COCO dataset for captioning."
   ]
  },
  {
   "cell_type": "code",
   "execution_count": 2,
   "metadata": {},
   "outputs": [
    {
     "name": "stdout",
     "output_type": "stream",
     "text": [
      "train_captions <class 'numpy.ndarray'> (400135, 17) int32\n",
      "train_image_idxs <class 'numpy.ndarray'> (400135,) int32\n",
      "val_captions <class 'numpy.ndarray'> (195954, 17) int32\n",
      "val_image_idxs <class 'numpy.ndarray'> (195954,) int32\n",
      "train_features <class 'numpy.ndarray'> (82783, 512) float32\n",
      "val_features <class 'numpy.ndarray'> (40504, 512) float32\n",
      "idx_to_word <class 'list'> 1004\n",
      "word_to_idx <class 'dict'> 1004\n",
      "train_urls <class 'numpy.ndarray'> (82783,) <U63\n",
      "val_urls <class 'numpy.ndarray'> (40504,) <U63\n"
     ]
    }
   ],
   "source": [
    "# Load COCO data from disk; this returns a dictionary\n",
    "# We'll work with dimensionality-reduced features for this notebook, but feel\n",
    "# free to experiment with the original features by changing the flag below.\n",
    "data = load_coco_data(pca_features=True)\n",
    "\n",
    "# Print out all the keys and values from the data dictionary\n",
    "for k, v in data.items():\n",
    "    if type(v) == np.ndarray:\n",
    "        print(k, type(v), v.shape, v.dtype)\n",
    "    else:\n",
    "        print(k, type(v), len(v))"
   ]
  },
  {
   "cell_type": "markdown",
   "metadata": {},
   "source": [
    "# LSTM\n",
    "If you read recent papers, you'll see that many people use a variant on the vanilla RNN called Long-Short Term Memory (LSTM) RNNs. Vanilla RNNs can be tough to train on long sequences due to vanishing and exploding gradients caused by repeated matrix multiplication. LSTMs solve this problem by replacing the simple update rule of the vanilla RNN with a gating mechanism as follows.\n",
    "\n",
    "Similar to the vanilla RNN, at each timestep we receive an input $x_t\\in\\mathbb{R}^D$ and the previous hidden state $h_{t-1}\\in\\mathbb{R}^H$; the LSTM also maintains an $H$-dimensional *cell state*, so we also receive the previous cell state $c_{t-1}\\in\\mathbb{R}^H$. The learnable parameters of the LSTM are an *input-to-hidden* matrix $W_x\\in\\mathbb{R}^{4H\\times D}$, a *hidden-to-hidden* matrix $W_h\\in\\mathbb{R}^{4H\\times H}$ and a *bias vector* $b\\in\\mathbb{R}^{4H}$.\n",
    "\n",
    "At each timestep we first compute an *activation vector* $a\\in\\mathbb{R}^{4H}$ as $a=W_xx_t + W_hh_{t-1}+b$. We then divide this into four vectors $a_i,a_f,a_o,a_g\\in\\mathbb{R}^H$ where $a_i$ consists of the first $H$ elements of $a$, $a_f$ is the next $H$ elements of $a$, etc. We then compute the *input gate* $g\\in\\mathbb{R}^H$, *forget gate* $f\\in\\mathbb{R}^H$, *output gate* $o\\in\\mathbb{R}^H$ and *block input* $g\\in\\mathbb{R}^H$ as\n",
    "\n",
    "$$\n",
    "\\begin{align*}\n",
    "i = \\sigma(a_i) \\hspace{2pc}\n",
    "f = \\sigma(a_f) \\hspace{2pc}\n",
    "o = \\sigma(a_o) \\hspace{2pc}\n",
    "g = \\tanh(a_g)\n",
    "\\end{align*}\n",
    "$$\n",
    "\n",
    "where $\\sigma$ is the sigmoid function and $\\tanh$ is the hyperbolic tangent, both applied elementwise.\n",
    "\n",
    "Finally we compute the next cell state $c_t$ and next hidden state $h_t$ as\n",
    "\n",
    "$$\n",
    "c_{t} = f\\odot c_{t-1} + i\\odot g \\hspace{4pc}\n",
    "h_t = o\\odot\\tanh(c_t)\n",
    "$$\n",
    "\n",
    "where $\\odot$ is the elementwise product of vectors.\n",
    "\n",
    "In the rest of the notebook we will implement the LSTM update rule and apply it to the image captioning task. \n",
    "\n",
    "In the code, we assume that data is stored in batches so that $X_t \\in \\mathbb{R}^{N\\times D}$, and will work with *transposed* versions of the parameters: $W_x \\in \\mathbb{R}^{D \\times 4H}$, $W_h \\in \\mathbb{R}^{H\\times 4H}$ so that activations $A \\in \\mathbb{R}^{N\\times 4H}$ can be computed efficiently as $A = X_t W_x + H_{t-1} W_h$"
   ]
  },
  {
   "cell_type": "markdown",
   "metadata": {},
   "source": [
    "# LSTM: step forward\n",
    "Implement the forward pass for a single timestep of an LSTM in the `lstm_step_forward` function in the file `cs231n/rnn_layers.py`. This should be similar to the `rnn_step_forward` function that you implemented above, but using the LSTM update rule instead.\n",
    "\n",
    "Once you are done, run the following to perform a simple test of your implementation. You should see errors on the order of `e-8` or less."
   ]
  },
  {
   "cell_type": "code",
   "execution_count": 30,
   "metadata": {},
   "outputs": [
    {
     "name": "stdout",
     "output_type": "stream",
     "text": [
      "next_h error:  5.7054131967097955e-09\n",
      "next_c error:  5.8143123088804145e-09\n"
     ]
    }
   ],
   "source": [
    "N, D, H = 3, 4, 5\n",
    "x = np.linspace(-0.4, 1.2, num=N*D).reshape(N, D)\n",
    "prev_h = np.linspace(-0.3, 0.7, num=N*H).reshape(N, H)\n",
    "prev_c = np.linspace(-0.4, 0.9, num=N*H).reshape(N, H)\n",
    "Wx = np.linspace(-2.1, 1.3, num=4*D*H).reshape(D, 4 * H)\n",
    "Wh = np.linspace(-0.7, 2.2, num=4*H*H).reshape(H, 4 * H)\n",
    "b = np.linspace(0.3, 0.7, num=4*H)\n",
    "\n",
    "next_h, next_c, cache = lstm_step_forward(x, prev_h, prev_c, Wx, Wh, b)\n",
    "\n",
    "expected_next_h = np.asarray([\n",
    "    [ 0.24635157,  0.28610883,  0.32240467,  0.35525807,  0.38474904],\n",
    "    [ 0.49223563,  0.55611431,  0.61507696,  0.66844003,  0.7159181 ],\n",
    "    [ 0.56735664,  0.66310127,  0.74419266,  0.80889665,  0.858299  ]])\n",
    "expected_next_c = np.asarray([\n",
    "    [ 0.32986176,  0.39145139,  0.451556,    0.51014116,  0.56717407],\n",
    "    [ 0.66382255,  0.76674007,  0.87195994,  0.97902709,  1.08751345],\n",
    "    [ 0.74192008,  0.90592151,  1.07717006,  1.25120233,  1.42395676]])\n",
    "\n",
    "print('next_h error: ', rel_error(expected_next_h, next_h))\n",
    "print('next_c error: ', rel_error(expected_next_c, next_c))"
   ]
  },
  {
   "cell_type": "markdown",
   "metadata": {},
   "source": [
    "# LSTM: step backward\n",
    "Implement the backward pass for a single LSTM timestep in the function `lstm_step_backward` in the file `cs231n/rnn_layers.py`. Once you are done, run the following to perform numeric gradient checking on your implementation. You should see errors on the order of `e-7` or less."
   ]
  },
  {
   "cell_type": "code",
   "execution_count": 29,
   "metadata": {},
   "outputs": [
    {
     "name": "stdout",
     "output_type": "stream",
     "text": [
      "dx error:  6.335032254429549e-10\n",
      "dh error:  3.3963774090592634e-10\n",
      "dc error:  1.5221723979041107e-10\n",
      "dWx error:  2.1010960934639614e-09\n",
      "dWh error:  9.712296109943072e-08\n",
      "db error:  2.491522041931035e-10\n"
     ]
    }
   ],
   "source": [
    "np.random.seed(231)\n",
    "\n",
    "N, D, H = 4, 5, 6\n",
    "x = np.random.randn(N, D)\n",
    "prev_h = np.random.randn(N, H)\n",
    "prev_c = np.random.randn(N, H)\n",
    "Wx = np.random.randn(D, 4 * H)\n",
    "Wh = np.random.randn(H, 4 * H)\n",
    "b = np.random.randn(4 * H)\n",
    "\n",
    "next_h, next_c, cache = lstm_step_forward(x, prev_h, prev_c, Wx, Wh, b)\n",
    "\n",
    "dnext_h = np.random.randn(*next_h.shape)\n",
    "dnext_c = np.random.randn(*next_c.shape)\n",
    "\n",
    "fx_h = lambda x: lstm_step_forward(x, prev_h, prev_c, Wx, Wh, b)[0]\n",
    "fh_h = lambda h: lstm_step_forward(x, prev_h, prev_c, Wx, Wh, b)[0]\n",
    "fc_h = lambda c: lstm_step_forward(x, prev_h, prev_c, Wx, Wh, b)[0]\n",
    "fWx_h = lambda Wx: lstm_step_forward(x, prev_h, prev_c, Wx, Wh, b)[0]\n",
    "fWh_h = lambda Wh: lstm_step_forward(x, prev_h, prev_c, Wx, Wh, b)[0]\n",
    "fb_h = lambda b: lstm_step_forward(x, prev_h, prev_c, Wx, Wh, b)[0]\n",
    "\n",
    "fx_c = lambda x: lstm_step_forward(x, prev_h, prev_c, Wx, Wh, b)[1]\n",
    "fh_c = lambda h: lstm_step_forward(x, prev_h, prev_c, Wx, Wh, b)[1]\n",
    "fc_c = lambda c: lstm_step_forward(x, prev_h, prev_c, Wx, Wh, b)[1]\n",
    "fWx_c = lambda Wx: lstm_step_forward(x, prev_h, prev_c, Wx, Wh, b)[1]\n",
    "fWh_c = lambda Wh: lstm_step_forward(x, prev_h, prev_c, Wx, Wh, b)[1]\n",
    "fb_c = lambda b: lstm_step_forward(x, prev_h, prev_c, Wx, Wh, b)[1]\n",
    "\n",
    "num_grad = eval_numerical_gradient_array\n",
    "\n",
    "dx_num = num_grad(fx_h, x, dnext_h) + num_grad(fx_c, x, dnext_c)\n",
    "dh_num = num_grad(fh_h, prev_h, dnext_h) + num_grad(fh_c, prev_h, dnext_c)\n",
    "dc_num = num_grad(fc_h, prev_c, dnext_h) + num_grad(fc_c, prev_c, dnext_c)\n",
    "dWx_num = num_grad(fWx_h, Wx, dnext_h) + num_grad(fWx_c, Wx, dnext_c)\n",
    "dWh_num = num_grad(fWh_h, Wh, dnext_h) + num_grad(fWh_c, Wh, dnext_c)\n",
    "db_num = num_grad(fb_h, b, dnext_h) + num_grad(fb_c, b, dnext_c)\n",
    "\n",
    "dx, dh, dc, dWx, dWh, db = lstm_step_backward(dnext_h, dnext_c, cache)\n",
    "\n",
    "print('dx error: ', rel_error(dx_num, dx))\n",
    "print('dh error: ', rel_error(dh_num, dh))\n",
    "print('dc error: ', rel_error(dc_num, dc))\n",
    "print('dWx error: ', rel_error(dWx_num, dWx))\n",
    "print('dWh error: ', rel_error(dWh_num, dWh))\n",
    "print('db error: ', rel_error(db_num, db))"
   ]
  },
  {
   "cell_type": "markdown",
   "metadata": {},
   "source": [
    "# LSTM: forward\n",
    "In the function `lstm_forward` in the file `cs231n/rnn_layers.py`, implement the `lstm_forward` function to run an LSTM forward on an entire timeseries of data.\n",
    "\n",
    "When you are done, run the following to check your implementation. You should see an error on the order of `e-7` or less."
   ]
  },
  {
   "cell_type": "code",
   "execution_count": 44,
   "metadata": {},
   "outputs": [
    {
     "name": "stdout",
     "output_type": "stream",
     "text": [
      "h error:  8.610537452106624e-08\n"
     ]
    }
   ],
   "source": [
    "N, D, H, T = 2, 5, 4, 3\n",
    "x = np.linspace(-0.4, 0.6, num=N*T*D).reshape(N, T, D)\n",
    "h0 = np.linspace(-0.4, 0.8, num=N*H).reshape(N, H)\n",
    "Wx = np.linspace(-0.2, 0.9, num=4*D*H).reshape(D, 4 * H)\n",
    "Wh = np.linspace(-0.3, 0.6, num=4*H*H).reshape(H, 4 * H)\n",
    "b = np.linspace(0.2, 0.7, num=4*H)\n",
    "\n",
    "h, cache = lstm_forward(x, h0, Wx, Wh, b)\n",
    "\n",
    "expected_h = np.asarray([\n",
    " [[ 0.01764008,  0.01823233, 0.01882671, 0.0194232],\n",
    "  [ 0.11287491,  0.12146228,  0.13018446,  0.13902939],\n",
    "  [ 0.31358768,  0.33338627,  0.35304453,  0.37250975]],\n",
    " [[ 0.45767879,  0.4761092,   0.4936887,   0.51041945],\n",
    "  [ 0.6704845,   0.69350089,  0.71486014,  0.7346449 ],\n",
    "  [ 0.81733511,  0.83677871,  0.85403753,  0.86935314]]])\n",
    "\n",
    "print('h error: ', rel_error(expected_h, h))"
   ]
  },
  {
   "cell_type": "markdown",
   "metadata": {},
   "source": [
    "# LSTM: backward\n",
    "Implement the backward pass for an LSTM over an entire timeseries of data in the function `lstm_backward` in the file `cs231n/rnn_layers.py`. When you are done, run the following to perform numeric gradient checking on your implementation. You should see errors on the order of `e-8` or less. (For `dWh`, it's fine if your error is on the order of `e-6` or less)."
   ]
  },
  {
   "cell_type": "code",
   "execution_count": 45,
   "metadata": {},
   "outputs": [
    {
     "name": "stdout",
     "output_type": "stream",
     "text": [
      "dx error:  7.838503094280515e-09\n",
      "dh0 error:  2.469092580080717e-08\n",
      "dWx error:  4.748336603829709e-09\n",
      "dWh error:  1.0424408314821048e-06\n",
      "db error:  1.9152724138992987e-09\n"
     ]
    }
   ],
   "source": [
    "from cs231n.rnn_layers import lstm_forward, lstm_backward\n",
    "np.random.seed(231)\n",
    "\n",
    "N, D, T, H = 2, 3, 10, 6\n",
    "\n",
    "x = np.random.randn(N, T, D)\n",
    "h0 = np.random.randn(N, H)\n",
    "Wx = np.random.randn(D, 4 * H)\n",
    "Wh = np.random.randn(H, 4 * H)\n",
    "b = np.random.randn(4 * H)\n",
    "\n",
    "out, cache = lstm_forward(x, h0, Wx, Wh, b)\n",
    "\n",
    "dout = np.random.randn(*out.shape)\n",
    "\n",
    "dx, dh0, dWx, dWh, db = lstm_backward(dout, cache)\n",
    "\n",
    "fx = lambda x: lstm_forward(x, h0, Wx, Wh, b)[0]\n",
    "fh0 = lambda h0: lstm_forward(x, h0, Wx, Wh, b)[0]\n",
    "fWx = lambda Wx: lstm_forward(x, h0, Wx, Wh, b)[0]\n",
    "fWh = lambda Wh: lstm_forward(x, h0, Wx, Wh, b)[0]\n",
    "fb = lambda b: lstm_forward(x, h0, Wx, Wh, b)[0]\n",
    "\n",
    "dx_num = eval_numerical_gradient_array(fx, x, dout)\n",
    "dh0_num = eval_numerical_gradient_array(fh0, h0, dout)\n",
    "dWx_num = eval_numerical_gradient_array(fWx, Wx, dout)\n",
    "dWh_num = eval_numerical_gradient_array(fWh, Wh, dout)\n",
    "db_num = eval_numerical_gradient_array(fb, b, dout)\n",
    "\n",
    "print('dx error: ', rel_error(dx_num, dx))\n",
    "print('dh0 error: ', rel_error(dh0_num, dh0))\n",
    "print('dWx error: ', rel_error(dWx_num, dWx))\n",
    "print('dWh error: ', rel_error(dWh_num, dWh))\n",
    "print('db error: ', rel_error(db_num, db))"
   ]
  },
  {
   "cell_type": "markdown",
   "metadata": {},
   "source": [
    "# INLINE QUESTION"
   ]
  },
  {
   "cell_type": "markdown",
   "metadata": {},
   "source": [
    "Recall that in an LSTM the input gate $i$, forget gate $f$, and output gate $o$ are all outputs of a sigmoid function. Why don't we use the ReLU activation function instead of sigmoid to compute these values? Explain."
   ]
  },
  {
   "cell_type": "markdown",
   "metadata": {},
   "source": [
    "# LSTM captioning model\n",
    "\n",
    "Now that you have implemented an LSTM, update the implementation of the `loss` method of the `CaptioningRNN` class in the file `cs231n/classifiers/rnn.py` to handle the case where `self.cell_type` is `lstm`. This should require adding less than 10 lines of code.\n",
    "\n",
    "Once you have done so, run the following to check your implementation. You should see a difference on the order of `e-10` or less."
   ]
  },
  {
   "cell_type": "code",
   "execution_count": 46,
   "metadata": {},
   "outputs": [
    {
     "name": "stdout",
     "output_type": "stream",
     "text": [
      "loss:  9.82445935443226\n",
      "expected loss:  9.82445935443\n",
      "difference:  2.261302256556519e-12\n"
     ]
    }
   ],
   "source": [
    "N, D, W, H = 10, 20, 30, 40\n",
    "word_to_idx = {'<NULL>': 0, 'cat': 2, 'dog': 3}\n",
    "V = len(word_to_idx)\n",
    "T = 13\n",
    "\n",
    "model = CaptioningRNN(word_to_idx,\n",
    "          input_dim=D,\n",
    "          wordvec_dim=W,\n",
    "          hidden_dim=H,\n",
    "          cell_type='lstm',\n",
    "          dtype=np.float64)\n",
    "\n",
    "# Set all model parameters to fixed values\n",
    "for k, v in model.params.items():\n",
    "  model.params[k] = np.linspace(-1.4, 1.3, num=v.size).reshape(*v.shape)\n",
    "\n",
    "features = np.linspace(-0.5, 1.7, num=N*D).reshape(N, D)\n",
    "captions = (np.arange(N * T) % V).reshape(N, T)\n",
    "\n",
    "loss, grads = model.loss(features, captions)\n",
    "expected_loss = 9.82445935443\n",
    "\n",
    "print('loss: ', loss)\n",
    "print('expected loss: ', expected_loss)\n",
    "print('difference: ', abs(loss - expected_loss))"
   ]
  },
  {
   "cell_type": "markdown",
   "metadata": {},
   "source": [
    "# Overfit LSTM captioning model\n",
    "Run the following to overfit an LSTM captioning model on the same small dataset as we used for the RNN previously. You should see a final loss less than 0.5."
   ]
  },
  {
   "cell_type": "code",
   "execution_count": 49,
   "metadata": {},
   "outputs": [
    {
     "name": "stdout",
     "output_type": "stream",
     "text": [
      "(Iteration 1 / 2000) loss: 79.581730\n",
      "(Iteration 11 / 2000) loss: 53.504563\n",
      "(Iteration 21 / 2000) loss: 50.069891\n",
      "(Iteration 31 / 2000) loss: 49.407808\n",
      "(Iteration 41 / 2000) loss: 42.335950\n",
      "(Iteration 51 / 2000) loss: 41.061552\n",
      "(Iteration 61 / 2000) loss: 38.922414\n",
      "(Iteration 71 / 2000) loss: 40.983246\n",
      "(Iteration 81 / 2000) loss: 37.507898\n",
      "(Iteration 91 / 2000) loss: 29.938833\n",
      "(Iteration 101 / 2000) loss: 31.363661\n",
      "(Iteration 111 / 2000) loss: 29.967594\n",
      "(Iteration 121 / 2000) loss: 28.831790\n",
      "(Iteration 131 / 2000) loss: 26.171288\n",
      "(Iteration 141 / 2000) loss: 24.227421\n",
      "(Iteration 151 / 2000) loss: 24.281928\n",
      "(Iteration 161 / 2000) loss: 24.880353\n",
      "(Iteration 171 / 2000) loss: 20.171943\n",
      "(Iteration 181 / 2000) loss: 19.325883\n",
      "(Iteration 191 / 2000) loss: 17.115539\n",
      "(Iteration 201 / 2000) loss: 16.262444\n",
      "(Iteration 211 / 2000) loss: 18.681179\n",
      "(Iteration 221 / 2000) loss: 18.992324\n",
      "(Iteration 231 / 2000) loss: 16.921852\n",
      "(Iteration 241 / 2000) loss: 19.675906\n",
      "(Iteration 251 / 2000) loss: 13.673503\n",
      "(Iteration 261 / 2000) loss: 13.990177\n",
      "(Iteration 271 / 2000) loss: 12.642145\n",
      "(Iteration 281 / 2000) loss: 9.489412\n",
      "(Iteration 291 / 2000) loss: 11.795085\n",
      "(Iteration 301 / 2000) loss: 11.062494\n",
      "(Iteration 311 / 2000) loss: 7.715746\n",
      "(Iteration 321 / 2000) loss: 9.197796\n",
      "(Iteration 331 / 2000) loss: 6.395143\n",
      "(Iteration 341 / 2000) loss: 6.846483\n",
      "(Iteration 351 / 2000) loss: 10.263665\n",
      "(Iteration 361 / 2000) loss: 6.963995\n",
      "(Iteration 371 / 2000) loss: 8.943286\n",
      "(Iteration 381 / 2000) loss: 7.029236\n",
      "(Iteration 391 / 2000) loss: 8.479077\n",
      "(Iteration 401 / 2000) loss: 5.717261\n",
      "(Iteration 411 / 2000) loss: 4.576487\n",
      "(Iteration 421 / 2000) loss: 5.814941\n",
      "(Iteration 431 / 2000) loss: 4.734362\n",
      "(Iteration 441 / 2000) loss: 3.685003\n",
      "(Iteration 451 / 2000) loss: 3.857354\n",
      "(Iteration 461 / 2000) loss: 4.831459\n",
      "(Iteration 471 / 2000) loss: 3.006412\n",
      "(Iteration 481 / 2000) loss: 2.702658\n",
      "(Iteration 491 / 2000) loss: 4.518570\n",
      "(Iteration 501 / 2000) loss: 3.756430\n",
      "(Iteration 511 / 2000) loss: 3.718599\n",
      "(Iteration 521 / 2000) loss: 4.126802\n",
      "(Iteration 531 / 2000) loss: 3.735781\n",
      "(Iteration 541 / 2000) loss: 2.299267\n",
      "(Iteration 551 / 2000) loss: 3.232546\n",
      "(Iteration 561 / 2000) loss: 3.281027\n",
      "(Iteration 571 / 2000) loss: 2.094397\n",
      "(Iteration 581 / 2000) loss: 2.680293\n",
      "(Iteration 591 / 2000) loss: 2.902562\n",
      "(Iteration 601 / 2000) loss: 2.494788\n",
      "(Iteration 611 / 2000) loss: 2.263444\n",
      "(Iteration 621 / 2000) loss: 2.673456\n",
      "(Iteration 631 / 2000) loss: 2.096123\n",
      "(Iteration 641 / 2000) loss: 1.169084\n",
      "(Iteration 651 / 2000) loss: 1.899589\n",
      "(Iteration 661 / 2000) loss: 2.333703\n",
      "(Iteration 671 / 2000) loss: 1.416439\n",
      "(Iteration 681 / 2000) loss: 1.137185\n",
      "(Iteration 691 / 2000) loss: 1.658274\n",
      "(Iteration 701 / 2000) loss: 1.267183\n",
      "(Iteration 711 / 2000) loss: 1.473012\n",
      "(Iteration 721 / 2000) loss: 1.415023\n",
      "(Iteration 731 / 2000) loss: 1.174245\n",
      "(Iteration 741 / 2000) loss: 1.263667\n",
      "(Iteration 751 / 2000) loss: 1.026153\n",
      "(Iteration 761 / 2000) loss: 0.820150\n",
      "(Iteration 771 / 2000) loss: 0.672635\n",
      "(Iteration 781 / 2000) loss: 0.871498\n",
      "(Iteration 791 / 2000) loss: 0.749516\n",
      "(Iteration 801 / 2000) loss: 0.669967\n",
      "(Iteration 811 / 2000) loss: 0.562468\n",
      "(Iteration 821 / 2000) loss: 0.749418\n",
      "(Iteration 831 / 2000) loss: 0.640156\n",
      "(Iteration 841 / 2000) loss: 0.436635\n",
      "(Iteration 851 / 2000) loss: 0.574226\n",
      "(Iteration 861 / 2000) loss: 0.673822\n",
      "(Iteration 871 / 2000) loss: 0.354497\n",
      "(Iteration 881 / 2000) loss: 0.450487\n",
      "(Iteration 891 / 2000) loss: 0.294332\n",
      "(Iteration 901 / 2000) loss: 0.525365\n",
      "(Iteration 911 / 2000) loss: 0.379715\n",
      "(Iteration 921 / 2000) loss: 0.180104\n",
      "(Iteration 931 / 2000) loss: 0.260091\n",
      "(Iteration 941 / 2000) loss: 0.278494\n",
      "(Iteration 951 / 2000) loss: 0.266538\n",
      "(Iteration 961 / 2000) loss: 0.341061\n",
      "(Iteration 971 / 2000) loss: 0.254773\n",
      "(Iteration 981 / 2000) loss: 0.370292\n",
      "(Iteration 991 / 2000) loss: 0.239509\n",
      "(Iteration 1001 / 2000) loss: 0.230252\n",
      "(Iteration 1011 / 2000) loss: 0.340467\n",
      "(Iteration 1021 / 2000) loss: 0.135413\n",
      "(Iteration 1031 / 2000) loss: 0.136955\n",
      "(Iteration 1041 / 2000) loss: 0.098509\n",
      "(Iteration 1051 / 2000) loss: 0.106082\n",
      "(Iteration 1061 / 2000) loss: 0.111118\n",
      "(Iteration 1071 / 2000) loss: 0.087471\n",
      "(Iteration 1081 / 2000) loss: 0.103144\n",
      "(Iteration 1091 / 2000) loss: 0.100441\n",
      "(Iteration 1101 / 2000) loss: 0.088949\n",
      "(Iteration 1111 / 2000) loss: 0.148141\n",
      "(Iteration 1121 / 2000) loss: 0.083113\n",
      "(Iteration 1131 / 2000) loss: 0.070991\n",
      "(Iteration 1141 / 2000) loss: 0.061899\n",
      "(Iteration 1151 / 2000) loss: 0.068605\n",
      "(Iteration 1161 / 2000) loss: 0.070317\n",
      "(Iteration 1171 / 2000) loss: 0.054371\n",
      "(Iteration 1181 / 2000) loss: 0.064354\n",
      "(Iteration 1191 / 2000) loss: 0.049275\n",
      "(Iteration 1201 / 2000) loss: 0.054217\n",
      "(Iteration 1211 / 2000) loss: 0.059029\n",
      "(Iteration 1221 / 2000) loss: 0.235136\n",
      "(Iteration 1231 / 2000) loss: 0.055727\n",
      "(Iteration 1241 / 2000) loss: 0.054676\n",
      "(Iteration 1251 / 2000) loss: 0.044510\n",
      "(Iteration 1261 / 2000) loss: 0.070643\n",
      "(Iteration 1271 / 2000) loss: 0.043181\n",
      "(Iteration 1281 / 2000) loss: 0.049105\n",
      "(Iteration 1291 / 2000) loss: 0.039092\n",
      "(Iteration 1301 / 2000) loss: 0.046769\n",
      "(Iteration 1311 / 2000) loss: 0.046138\n",
      "(Iteration 1321 / 2000) loss: 0.053556\n",
      "(Iteration 1331 / 2000) loss: 0.038838\n",
      "(Iteration 1341 / 2000) loss: 0.036505\n",
      "(Iteration 1351 / 2000) loss: 0.041213\n",
      "(Iteration 1361 / 2000) loss: 0.045606\n",
      "(Iteration 1371 / 2000) loss: 0.034164\n",
      "(Iteration 1381 / 2000) loss: 0.031005\n",
      "(Iteration 1391 / 2000) loss: 0.040617\n",
      "(Iteration 1401 / 2000) loss: 0.033489\n",
      "(Iteration 1411 / 2000) loss: 0.036376\n",
      "(Iteration 1421 / 2000) loss: 0.030611\n",
      "(Iteration 1431 / 2000) loss: 0.034736\n",
      "(Iteration 1441 / 2000) loss: 0.027886\n",
      "(Iteration 1451 / 2000) loss: 0.034455\n",
      "(Iteration 1461 / 2000) loss: 0.034334\n",
      "(Iteration 1471 / 2000) loss: 0.034981\n",
      "(Iteration 1481 / 2000) loss: 0.030161\n",
      "(Iteration 1491 / 2000) loss: 0.030508\n",
      "(Iteration 1501 / 2000) loss: 0.032822\n",
      "(Iteration 1511 / 2000) loss: 0.028891\n",
      "(Iteration 1521 / 2000) loss: 0.027390\n",
      "(Iteration 1531 / 2000) loss: 0.025326\n",
      "(Iteration 1541 / 2000) loss: 0.027095\n",
      "(Iteration 1551 / 2000) loss: 0.033911\n",
      "(Iteration 1561 / 2000) loss: 0.040039\n",
      "(Iteration 1571 / 2000) loss: 0.023459\n",
      "(Iteration 1581 / 2000) loss: 0.025195\n",
      "(Iteration 1591 / 2000) loss: 0.025675\n",
      "(Iteration 1601 / 2000) loss: 0.028237\n",
      "(Iteration 1611 / 2000) loss: 0.053406\n",
      "(Iteration 1621 / 2000) loss: 0.021944\n",
      "(Iteration 1631 / 2000) loss: 0.232152\n",
      "(Iteration 1641 / 2000) loss: 0.024755\n",
      "(Iteration 1651 / 2000) loss: 0.024567\n",
      "(Iteration 1661 / 2000) loss: 0.036442\n",
      "(Iteration 1671 / 2000) loss: 0.025135\n",
      "(Iteration 1681 / 2000) loss: 0.026433\n",
      "(Iteration 1691 / 2000) loss: 0.023206\n",
      "(Iteration 1701 / 2000) loss: 0.022730\n",
      "(Iteration 1711 / 2000) loss: 0.050466\n",
      "(Iteration 1721 / 2000) loss: 0.021586\n",
      "(Iteration 1731 / 2000) loss: 0.022798\n",
      "(Iteration 1741 / 2000) loss: 0.024001\n",
      "(Iteration 1751 / 2000) loss: 0.031072\n",
      "(Iteration 1761 / 2000) loss: 0.021370\n",
      "(Iteration 1771 / 2000) loss: 0.021069\n",
      "(Iteration 1781 / 2000) loss: 0.021048\n",
      "(Iteration 1791 / 2000) loss: 0.022496\n",
      "(Iteration 1801 / 2000) loss: 0.020733\n",
      "(Iteration 1811 / 2000) loss: 0.019442\n",
      "(Iteration 1821 / 2000) loss: 0.025558\n",
      "(Iteration 1831 / 2000) loss: 0.022806\n",
      "(Iteration 1841 / 2000) loss: 0.183672\n",
      "(Iteration 1851 / 2000) loss: 0.019486\n",
      "(Iteration 1861 / 2000) loss: 0.020769\n",
      "(Iteration 1871 / 2000) loss: 0.016854\n",
      "(Iteration 1881 / 2000) loss: 0.020722\n",
      "(Iteration 1891 / 2000) loss: 0.017971\n",
      "(Iteration 1901 / 2000) loss: 0.016177\n",
      "(Iteration 1911 / 2000) loss: 0.020809\n",
      "(Iteration 1921 / 2000) loss: 0.019507\n",
      "(Iteration 1931 / 2000) loss: 0.017253\n",
      "(Iteration 1941 / 2000) loss: 0.019408\n",
      "(Iteration 1951 / 2000) loss: 0.017629\n",
      "(Iteration 1961 / 2000) loss: 0.014957\n",
      "(Iteration 1971 / 2000) loss: 0.018248\n",
      "(Iteration 1981 / 2000) loss: 0.016078\n",
      "(Iteration 1991 / 2000) loss: 0.018082\n"
     ]
    },
    {
     "data": {
      "image/png": "[encoded data removed]",
      "text/plain": [
       "<Figure size 432x288 with 1 Axes>"
      ]
     },
     "metadata": {},
     "output_type": "display_data"
    }
   ],
   "source": [
    "np.random.seed(231)\n",
    "\n",
    "small_data = load_coco_data(max_train=1000)\n",
    "\n",
    "small_lstm_model = CaptioningRNN(\n",
    "          cell_type='lstm',\n",
    "          word_to_idx=data['word_to_idx'],\n",
    "          input_dim=data['train_features'].shape[1],\n",
    "          hidden_dim=512,\n",
    "          wordvec_dim=256,\n",
    "          dtype=np.float32,\n",
    "        )\n",
    "\n",
    "small_lstm_solver = CaptioningSolver(small_lstm_model, small_data,\n",
    "           update_rule='adam',\n",
    "           num_epochs=50,\n",
    "           batch_size=25,\n",
    "           optim_config={\n",
    "             'learning_rate': 5e-3,\n",
    "           },\n",
    "           lr_decay=0.995,\n",
    "           verbose=True, print_every=10,\n",
    "         )\n",
    "\n",
    "small_lstm_solver.train()\n",
    "\n",
    "# Plot the training losses\n",
    "plt.plot(small_lstm_solver.loss_history)\n",
    "plt.xlabel('Iteration')\n",
    "plt.ylabel('Loss')\n",
    "plt.title('Training loss history')\n",
    "plt.show()"
   ]
  },
  {
   "cell_type": "markdown",
   "metadata": {},
   "source": [
    "# LSTM test-time sampling\n",
    "Modify the `sample` method of the `CaptioningRNN` class to handle the case where `self.cell_type` is `lstm`. This should take fewer than 10 lines of code.\n",
    "\n",
    "When you are done run the following to sample from your overfit LSTM model on some training and validation set samples. As with the RNN, training results should be very good, and validation results probably won't make a lot of sense (because we're overfitting)."
   ]
  },
  {
   "cell_type": "code",
   "execution_count": null,
   "metadata": {},
   "outputs": [],
   "source": [
    "for split in ['train', 'val']:\n",
    "    minibatch = sample_coco_minibatch(small_data, split=split, batch_size=5)\n",
    "    gt_captions, features, urls = minibatch\n",
    "    gt_captions = decode_captions(gt_captions, data['idx_to_word'])\n",
    "\n",
    "    sample_captions = small_lstm_model.sample(features)\n",
    "    sample_captions = decode_captions(sample_captions, data['idx_to_word'])\n",
    "\n",
    "    for gt_caption, sample_caption, url in zip(gt_captions, sample_captions, urls):\n",
    "        plt.imshow(image_from_url(url))\n",
    "        plt.title('%s\\n%s\\nGT:%s' % (split, sample_caption, gt_caption))\n",
    "        plt.axis('off')\n",
    "        plt.show()"
   ]
  },
  {
   "cell_type": "code",
   "execution_count": null,
   "metadata": {},
   "outputs": [],
   "source": []
  }
 ],
 "metadata": {
  "kernelspec": {
   "display_name": "Python 3",
   "language": "python",
   "name": "python3"
  },
  "language_info": {
   "codemirror_mode": {
    "name": "ipython",
    "version": 3
   },
   "file_extension": ".py",
   "mimetype": "text/x-python",
   "name": "python",
   "nbconvert_exporter": "python",
   "pygments_lexer": "ipython3",
   "version": "3.6.5"
  }
 },
 "nbformat": 4,
 "nbformat_minor": 1
}
